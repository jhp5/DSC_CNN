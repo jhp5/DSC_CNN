{
 "cells": [
  {
   "cell_type": "code",
   "execution_count": 1,
   "id": "38a5da19-4774-4865-989c-1218f535f59d",
   "metadata": {},
   "outputs": [],
   "source": [
    "import scipy.io\n",
    "import torch\n",
    "import torch.nn as nn\n",
    "import torch.optim as optim\n",
    "from torch.utils.data import DataLoader, TensorDataset, random_split\n",
    "from d2l import torch as d2l\n",
    "import argparse\n",
    "import datetime\n",
    "import wandb "
   ]
  },
  {
   "cell_type": "code",
   "execution_count": 3,
   "id": "6b122ca7-e110-42bb-af0c-260d7937a471",
   "metadata": {},
   "outputs": [],
   "source": [
    "# 参数解析器\n",
    "parser = argparse.ArgumentParser()\n",
    "parser.add_argument('--project_name', type=str, default='DSC_CNN_demo01', help='project_name')\n",
    "parser.add_argument('--batch_size', type=int, default=32, help='size of each image batch')\n",
    "parser.add_argument('--lr', type=float, default=0.001, help='learning rate')\n",
    "parser.add_argument('--optim_type', type=str, default='Adam', help='Optimizer')\n",
    "parser.add_argument('--epochs', type=int, default=100, help='epochs')\n",
    "parser.add_argument('--model_pth_name', type=str, default='../save/model_default.pth', help='pth_name')\n",
    "# 不会解析命令行参数\n",
    "args = parser.parse_args([])\n",
    "# 返回一个NameSpace对象"
   ]
  },
  {
   "cell_type": "code",
   "execution_count": 10,
   "id": "b1ca936e-a3cc-45d9-91f2-7a15d46899a7",
   "metadata": {},
   "outputs": [],
   "source": [
    "def min_max_normalize(data, dim=-1):\n",
    "    \"\"\"\n",
    "    对输入数据在指定维度上进行 Min - Max 归一化\n",
    "    \"\"\"\n",
    "    min_vals = data\n",
    "    min_vals, _ = torch.min(min_vals, dim=dim, keepdim=True)\n",
    "    max_vals = data\n",
    "    max_vals, _ = torch.max(max_vals, dim=dim, keepdim=True)\n",
    "    \n",
    "    denominator = max_vals - min_vals\n",
    "    denominator[denominator == 0] = 1e-8\n",
    "    \n",
    "    normalized_data = (data - min_vals) / denominator\n",
    "    return normalized_data\n",
    "\n",
    "def create_input_iamge(data, length):\n",
    "    num = len(data)//(length**2)\n",
    "    data = data[:num*(length**2)].reshape((num, 1, length, length))\n",
    "    data = torch.tensor(data, dtype=torch.float32)\n",
    "    # Max-Min 归一化\n",
    "    data = min_max_normalize(data, dim=-1)\n",
    "    return data\n",
    "\n",
    "def create_dataloaders(length, Data_names, Data_names_key, Labels, is_train=1, batch_size = args.batch_size):\n",
    "    for i in range(len(Data_names)):\n",
    "        print('正在读取：' + Data_names[i])\n",
    "        mat_data = scipy.io.loadmat('../data/' + Data_names[i])\n",
    "        numpy_X = mat_data[Data_names_key[i]]\n",
    "        print('ndarry 形状：', numpy_X.shape)\n",
    "        tensor_X = create_input_iamge(numpy_X, length)\n",
    "        tensor_y = torch.full((tensor_X.shape[0],), Labels[i], dtype=torch.int64)\n",
    "        print('tensor 形状：', tensor_X.shape)\n",
    "        if i==0:\n",
    "            X = tensor_X\n",
    "            y = tensor_y\n",
    "        else:\n",
    "            # dim是轴而不是方向i\n",
    "            X = torch.cat([X, tensor_X], dim=0)\n",
    "            y = torch.cat([y, tensor_y], dim=0)\n",
    "    print('模型输入的 tensor 形状为：', X.shape)\n",
    "    print('对应标签的 tensor 形状为：', y.shape)\n",
    "    \n",
    "    dataset = TensorDataset(X, y)\n",
    "    if is_train:\n",
    "        train_size = int(0.7 * len(dataset))\n",
    "        val_size = len(dataset) - train_size\n",
    "        # 随机73划分数据集\n",
    "        train_dataset, val_dataset = random_split(dataset, [train_size, val_size])\n",
    "        train_dataloader = DataLoader(\n",
    "            train_dataset,\n",
    "            batch_size=batch_size,\n",
    "            shuffle=True,\n",
    "            num_workers=2,\n",
    "            drop_last=True\n",
    "        )\n",
    "        val_dataloader = DataLoader(\n",
    "            val_dataset,\n",
    "            batch_size=batch_size,\n",
    "            shuffle=True,\n",
    "            num_workers=2,\n",
    "            drop_last=True\n",
    "        )\n",
    "        return train_dataloader, val_dataloader\n",
    "    \n",
    "    else:\n",
    "        infer_dataloader = DataLoader(\n",
    "            dataset,\n",
    "            batch_size=batch_size,\n",
    "            shuffle=False,\n",
    "            num_workers=2,\n",
    "            drop_last=True\n",
    "        )\n",
    "        return infer_dataloader"
   ]
  },
  {
   "cell_type": "code",
   "execution_count": 5,
   "id": "6bd3ad69-3766-4572-ab84-ad65fc8acf43",
   "metadata": {},
   "outputs": [],
   "source": [
    "Data_names = ['normal_0', 'IR007_0', 'B007_0', 'OR007@6_0']\n",
    "Data_names_key = ['X097_FE_time', 'X278_FE_time', 'X282_FE_time', 'X294_FE_time']\n",
    "Labels = [0, 1, 2, 3]"
   ]
  },
  {
   "cell_type": "code",
   "execution_count": 14,
   "id": "8dad1cbc-7bc5-4183-bfa9-e493c9ab0b27",
   "metadata": {},
   "outputs": [
    {
     "name": "stdout",
     "output_type": "stream",
     "text": [
      "正在读取：normal_0\n",
      "ndarry 形状： (243938, 1)\n",
      "tensor 形状： torch.Size([238, 1, 32, 32])\n",
      "正在读取：IR007_0\n",
      "ndarry 形状： (121535, 1)\n",
      "tensor 形状： torch.Size([118, 1, 32, 32])\n",
      "正在读取：B007_0\n",
      "ndarry 形状： (121168, 1)\n",
      "tensor 形状： torch.Size([118, 1, 32, 32])\n",
      "正在读取：OR007@6_0\n",
      "ndarry 形状： (121168, 1)\n",
      "tensor 形状： torch.Size([118, 1, 32, 32])\n",
      "模型输入的 tensor 形状为： torch.Size([592, 1, 32, 32])\n",
      "对应标签的 tensor 形状为： torch.Size([592])\n"
     ]
    },
    {
     "data": {
      "text/plain": [
       "<torch.utils.data.dataloader.DataLoader at 0x7feb3da86358>"
      ]
     },
     "execution_count": 14,
     "metadata": {},
     "output_type": "execute_result"
    }
   ],
   "source": [
    "create_dataloaders(32, Data_names, Data_names_key, Labels, is_train=0, batch_size = args.batch_size)"
   ]
  },
  {
   "cell_type": "code",
   "execution_count": 12,
   "id": "dbf8940d-f9f2-4bb8-acea-8407aa5d9114",
   "metadata": {},
   "outputs": [
    {
     "name": "stdout",
     "output_type": "stream",
     "text": [
      "正在读取：normal_0\n",
      "ndarry 形状： (243938, 1)\n",
      "tensor 形状： torch.Size([238, 1, 32, 32])\n",
      "正在读取：IR007_0\n",
      "ndarry 形状： (121535, 1)\n",
      "tensor 形状： torch.Size([118, 1, 32, 32])\n",
      "正在读取：B007_0\n",
      "ndarry 形状： (121168, 1)\n",
      "tensor 形状： torch.Size([118, 1, 32, 32])\n",
      "正在读取：OR007@6_0\n",
      "ndarry 形状： (121168, 1)\n",
      "tensor 形状： torch.Size([118, 1, 32, 32])\n",
      "模型输入的 tensor 形状为： torch.Size([592, 1, 32, 32])\n",
      "对应标签的 tensor 形状为： torch.Size([592])\n"
     ]
    }
   ],
   "source": [
    "infer_dataloader=create_dataloaders(32, Data_names, Data_names_key, Labels, is_train=0, batch_size = args.batch_size)"
   ]
  },
  {
   "cell_type": "code",
   "execution_count": 13,
   "id": "36b917ae-4682-4ed2-a7fe-1b4ed1bae1b1",
   "metadata": {},
   "outputs": [
    {
     "data": {
      "text/plain": [
       "<torch.utils.data.dataset.TensorDataset at 0x7feb3b5a9550>"
      ]
     },
     "execution_count": 13,
     "metadata": {},
     "output_type": "execute_result"
    }
   ],
   "source": [
    "infer_dataloader.dataset"
   ]
  }
 ],
 "metadata": {
  "kernelspec": {
   "display_name": "d2l",
   "language": "python",
   "name": "d2l"
  },
  "language_info": {
   "codemirror_mode": {
    "name": "ipython",
    "version": 3
   },
   "file_extension": ".py",
   "mimetype": "text/x-python",
   "name": "python",
   "nbconvert_exporter": "python",
   "pygments_lexer": "ipython3",
   "version": "3.7.3"
  }
 },
 "nbformat": 4,
 "nbformat_minor": 5
}

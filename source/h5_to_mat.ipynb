{
 "cells": [
  {
   "cell_type": "code",
   "execution_count": 1,
   "id": "34bde479-496b-4002-b8c0-fa6bd94f750d",
   "metadata": {},
   "outputs": [
    {
     "name": "stdout",
     "output_type": "stream",
     "text": [
      "Looking in indexes: http://repo.myhuaweicloud.com/repository/pypi/simple\n",
      "Collecting h5py\n",
      "  Downloading http://repo.myhuaweicloud.com/repository/pypi/packages/95/be/de1e591bec008ed92d3829b985757b8bc2d34179feef5e181530876a4f9d/h5py-3.8.0-cp37-cp37m-manylinux_2_17_x86_64.manylinux2014_x86_64.whl (4.3 MB)\n",
      "\u001b[2K     \u001b[90m━━━━━━━━━━━━━━━━━━━━━━━━━━━━━━━━━━━━━━━━\u001b[0m \u001b[32m4.3/4.3 MB\u001b[0m \u001b[31m36.8 MB/s\u001b[0m eta \u001b[36m0:00:00\u001b[0m00:01\u001b[0m00:01\u001b[0m\n",
      "\u001b[?25hRequirement already satisfied: numpy>=1.14.5 in /opt/conda/lib/python3.7/site-packages (from h5py) (1.21.5)\n",
      "Installing collected packages: h5py\n",
      "Successfully installed h5py-3.8.0\n",
      "\u001b[33mWARNING: You are using pip version 22.0.4; however, version 24.0 is available.\n",
      "You should consider upgrading via the '/opt/conda/bin/python -m pip install --upgrade pip' command.\u001b[0m\u001b[33m\n",
      "\u001b[0m"
     ]
    }
   ],
   "source": [
    "!pip install h5py"
   ]
  },
  {
   "cell_type": "code",
   "execution_count": 2,
   "id": "d5a0fef6-cb22-4032-adaf-7e4c5dcf7c52",
   "metadata": {},
   "outputs": [],
   "source": [
    "import h5py\n",
    "import scipy\n",
    "import scipy.io as sio\n",
    "import numpy as np"
   ]
  },
  {
   "cell_type": "code",
   "execution_count": null,
   "id": "299645d7-d024-4fc5-92d3-f32e63f3dd92",
   "metadata": {},
   "outputs": [],
   "source": [
    "# def read_hdf5(filename, dataset_name='dataset'):\n",
    "#     with h5py.File(filename, 'r') as f:\n",
    "#         if dataset_name in f:\n",
    "#             data = f[dataset_name][:]\n",
    "#         else:\n",
    "#             raise KeyError(f\"数据集 '{dataset_name}' 不存在\")\n",
    "#     return data\n",
    "\n",
    "# # 读取数据\n",
    "# filename = '../data/dataset01/100%_demo_1.h5'\n",
    "# try:\n",
    "#     data = read_hdf5(filename)\n",
    "#     print(f\"读取的数据: {data}\")\n",
    "# except KeyError as e:\n",
    "#     print(e)"
   ]
  },
  {
   "cell_type": "code",
   "execution_count": 12,
   "id": "96863b92-a31f-4710-a8e6-0e24b46e1451",
   "metadata": {},
   "outputs": [],
   "source": [
    "def h5_to_mat(h5_file_path, mat_file_path):\n",
    "    \"\"\"\n",
    "    将 HDF5 文件转换为 MATLAB 文件\n",
    "    :param h5_file_path: HDF5 文件的路径\n",
    "    :param mat_file_path: MATLAB 文件的保存路径\n",
    "    \"\"\"\n",
    "    try:\n",
    "        # 打开 HDF5 文件\n",
    "        with h5py.File(h5_file_path, 'r') as h5_file:\n",
    "            # 创建一个空字典，用于存储 HDF5 文件中的数据\n",
    "            data_dict = {}\n",
    "            # 遍历 HDF5 文件中的所有数据集\n",
    "            for key in h5_file.keys():\n",
    "                data = np.squeeze(h5_file[key][:])\n",
    "                # 将数据集的数据存储到字典中\n",
    "                data_dict[key] = data\n",
    "                print(data, len(data))\n",
    "\n",
    "        # 将字典中的数据保存为 MATLAB 文件\n",
    "        sio.savemat(mat_file_path, data_dict)\n",
    "        print(f\"成功将 {h5_file_path} 转换为 {mat_file_path}\")\n",
    "    except Exception as e:\n",
    "        print(f\"转换过程中出现错误: {e}\")\n",
    "\n",
    "# 示例用法\n",
    "# h5_file_path = 'your_file.h5'\n",
    "# mat_file_path = 'your_file.mat'\n",
    "# h5_to_mat(h5_file_path, mat_file_path)"
   ]
  },
  {
   "cell_type": "code",
   "execution_count": 40,
   "id": "f263dce6-9d5a-4e1f-b0ef-ff698da222ce",
   "metadata": {},
   "outputs": [
    {
     "name": "stdout",
     "output_type": "stream",
     "text": [
      "[ 5.214724  3.98773   3.98773  ... 11.96319   5.521472 23.619633]\n",
      "成功将 ../data/dataset01/10_1.h5 转换为 ../data/dataset01/10_1.mat\n",
      "[34.969322  2.147239 12.269938 ...  1.840491  8.282208 14.417178]\n",
      "成功将 ../data/dataset01/10_2_0.h5 转换为 ../data/dataset01/10_2_0.mat\n",
      "[ 0.306748  1.840491  0.920245 ...  9.202454 15.95092   4.907975]\n",
      "成功将 ../data/dataset01/10_2_90.h5 转换为 ../data/dataset01/10_2_180.mat\n",
      "[28.527607  4.294478 64.723923 ... 26.07362   6.441718 24.846626]\n",
      "成功将 ../data/dataset01/10_2_180.h5 转换为 ../data/dataset01/10_2_90.mat\n",
      "[2.453988 7.055215 9.509203 ... 0.613497 1.533742 2.453988]\n",
      "成功将 ../data/dataset01/10_3.h5 转换为 ../data/dataset01/10_3.mat\n",
      "[1.226994 0.306748 4.294478 ... 3.680981 2.147239 8.588957]\n",
      "成功将 ../data/dataset01/10_0.h5 转换为 ../data/dataset01/10_0.mat\n"
     ]
    }
   ],
   "source": [
    "# h5_to_mat('../data/dataset01/10_1.h5', '../data/dataset01/10_1.mat')\n",
    "# h5_to_mat('../data/dataset01/10_2_0.h5', '../data/dataset01/10_2_0.mat')\n",
    "# h5_to_mat('../data/dataset01/10_2_90.h5', '../data/dataset01/10_2_180.mat')\n",
    "# h5_to_mat('../data/dataset01/10_2_180.h5', '../data/dataset01/10_2_90.mat')\n",
    "# h5_to_mat('../data/dataset01/10_3.h5', '../data/dataset01/10_3.mat')\n",
    "# h5_to_mat('../data/dataset01/10_0.h5', '../data/dataset01/10_0.mat')"
   ]
  },
  {
   "cell_type": "code",
   "execution_count": 20,
   "id": "64759053-2a07-4ab1-a4c9-184757c8bd2f",
   "metadata": {},
   "outputs": [
    {
     "name": "stdout",
     "output_type": "stream",
     "text": [
      "[-0.306748 -0.306748  0.306748 ... -0.306748  0.613497  0.306748] 10240\n",
      "成功将 ../data/try/try05.h5 转换为 ../data/try/try.mat\n"
     ]
    }
   ],
   "source": [
    "h5_to_mat('../data/try/try05.h5', '../data/try/try.mat')"
   ]
  },
  {
   "cell_type": "code",
   "execution_count": 25,
   "id": "6b0c43f4-7643-4749-8a0e-e81120aef6c6",
   "metadata": {},
   "outputs": [
    {
     "name": "stdout",
     "output_type": "stream",
     "text": [
      "[-11.349693   1.533742  -3.067485 ...   7.055215  -2.147239  -8.588957] 102400\n",
      "成功将 ../data/pre03/old_100_0_4.23.h5 转换为 ../data/pre03/old_100_0.mat\n"
     ]
    }
   ],
   "source": [
    "h5_to_mat('../data/pre03/old_100_0_4.23.h5', '../data/pre03/old_100_0.mat')"
   ]
  },
  {
   "cell_type": "code",
   "execution_count": 22,
   "id": "38d79081-9a24-4d7f-a5f1-4ea3fef93e7f",
   "metadata": {},
   "outputs": [
    {
     "name": "stdout",
     "output_type": "stream",
     "text": [
      "[-28.22086    3.067485  11.349693 ...   8.588957   3.067485  -2.760736] 204800\n",
      "成功将 ../data/dataset03/200_0_4.23.h5 转换为 ../data/dataset03/200_0.mat\n",
      "[-192.024536  457.055237 -167.484665 ... -225.153366   20.858896\n",
      " -199.079742] 102400\n",
      "成功将 ../data/dataset03/100_1_4.23.h5 转换为 ../data/dataset03/100_1.mat\n",
      "[ 17.177914  12.883435 -12.883435 ...  17.79141   40.184048 -44.785275] 102400\n",
      "成功将 ../data/dataset03/100_2_0_4.23.h5 转换为 ../data/dataset03/100_2_0.mat\n",
      "[ 3.680981  7.97546  -0.306748 ...  2.453988  2.760736 -1.533742] 102400\n",
      "成功将 ../data/dataset03/100_2_90_4.23.h5 转换为 ../data/dataset03/100_2_90.mat\n",
      "[ -3.067485 -38.650307  10.736197 ... -58.895702 -12.883435  11.96319 ] 102400\n",
      "成功将 ../data/dataset03/100_2_180_4.23.h5 转换为 ../data/dataset03/100_2_180.mat\n",
      "[-0.306748  3.98773  -3.374233 ...  7.361963  9.509203  6.748466] 102400\n",
      "成功将 ../data/dataset03/100_3_4.23.h5 转换为 ../data/dataset03/100_3.mat\n",
      "[ -7.055215 -15.644171   2.760736 ...   4.294478  -6.134969   1.840491] 204800\n",
      "成功将 ../data/dataset03/old_200_0_4.23.h5 转换为 ../data/dataset03/old_200_0.mat\n"
     ]
    }
   ],
   "source": [
    "h5_to_mat('../data/dataset03/200_0_4.23.h5', '../data/dataset03/200_0.mat')\n",
    "h5_to_mat('../data/dataset03/100_1_4.23.h5', '../data/dataset03/100_1.mat')\n",
    "h5_to_mat('../data/dataset03/100_2_0_4.23.h5', '../data/dataset03/100_2_0.mat')\n",
    "h5_to_mat('../data/dataset03/100_2_90_4.23.h5', '../data/dataset03/100_2_90.mat')\n",
    "h5_to_mat('../data/dataset03/100_2_180_4.23.h5', '../data/dataset03/100_2_180.mat')\n",
    "h5_to_mat('../data/dataset03/100_3_4.23.h5', '../data/dataset03/100_3.mat')\n",
    "h5_to_mat('../data/dataset03/old_200_0_4.23.h5', '../data/dataset03/old_200_0.mat')\n",
    "# h5_to_mat('../data/origin_200_0.h5', '../data/CWRU_dataset02/drive_200_0.mat')\n",
    "# h5_to_mat('../data/old_200_0.h5', '../data/CWRU_dataset02/old_200_0.mat')"
   ]
  },
  {
   "cell_type": "code",
   "execution_count": 13,
   "id": "3a93df45-2cfb-4a4a-a634-d4f09897fbf9",
   "metadata": {},
   "outputs": [
    {
     "data": {
      "text/plain": [
       "{'__header__': b'MATLAB 5.0 MAT-file Platform: posix, Created on: Tue Apr 22 10:57:30 2025',\n",
       " '__version__': '1.0',\n",
       " '__globals__': [],\n",
       " 'dataset': array([[ 7.361963,  2.453988,  9.509203, ..., 16.871166,  2.453988,\n",
       "          1.226994]])}"
      ]
     },
     "execution_count": 13,
     "metadata": {},
     "output_type": "execute_result"
    }
   ],
   "source": [
    "mat_data = scipy.io.loadmat('../data/dataset02/200_0.mat')\n",
    "mat_data"
   ]
  },
  {
   "cell_type": "code",
   "execution_count": null,
   "id": "c3ac3093-c226-425d-b306-d3b7d21d2f84",
   "metadata": {},
   "outputs": [],
   "source": []
  }
 ],
 "metadata": {
  "kernelspec": {
   "display_name": "d2l",
   "language": "python",
   "name": "d2l"
  },
  "language_info": {
   "codemirror_mode": {
    "name": "ipython",
    "version": 3
   },
   "file_extension": ".py",
   "mimetype": "text/x-python",
   "name": "python",
   "nbconvert_exporter": "python",
   "pygments_lexer": "ipython3",
   "version": "3.7.3"
  }
 },
 "nbformat": 4,
 "nbformat_minor": 5
}
